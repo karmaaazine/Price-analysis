{
 "cells": [
  {
   "cell_type": "code",
   "execution_count": 12,
   "metadata": {},
   "outputs": [],
   "source": [
    "from selenium import webdriver\n",
    "from selenium.webdriver.common.by import By\n",
    "from selenium.webdriver.chrome.service import Service\n",
    "from selenium.webdriver.chrome.options import Options\n",
    "from selenium.webdriver.support.ui import WebDriverWait\n",
    "from selenium.webdriver.support import expected_conditions as EC\n",
    "import pandas as pd\n",
    "from datetime import datetime\n",
    "from bs4 import BeautifulSoup\n",
    "import os\n",
    "import re\n",
    "import requests"
   ]
  },
  {
   "cell_type": "code",
   "execution_count": 13,
   "metadata": {},
   "outputs": [],
   "source": [
    "# Selenium Setup\n",
    "options = Options()\n",
    "options.add_argument(\"--disable-gpu\")\n",
    "options.add_argument(\"--no-sandbox\")\n",
    "options.add_argument(\"--ignore-certificate-errors\")\n",
    "service = Service(\"C:/chromedriver.exe\")  # Adjust the path to your ChromeDriver\n",
    "driver = webdriver.Chrome(service=service, options=options)"
   ]
  },
  {
   "cell_type": "code",
   "execution_count": 14,
   "metadata": {},
   "outputs": [],
   "source": [
    "# Paramètres du scraping\n",
    "BASE_URL = \"https://www.newegg.com\"\n",
    "START_URL = \"https://www.newegg.com/Laptops-Notebooks/SubCategory/ID-32\"\n",
    "MAX_PAGES = 1\n",
    "OUTPUT_DIR = \"Data\"\n",
    "OUTPUT_FILE = os.path.join(OUTPUT_DIR, \"Newegg_Laptops.csv\")"
   ]
  },
  {
   "cell_type": "code",
   "execution_count": 15,
   "metadata": {},
   "outputs": [],
   "source": [
    "def get_exchange_rate():\n",
    "    \"\"\"Fetch USD to MAD exchange rate from an API.\"\"\"\n",
    "    api_url = \"https://api.exchangerate-api.com/v4/latest/USD\"\n",
    "    try:\n",
    "        response = requests.get(api_url)\n",
    "        data = response.json()\n",
    "        return data['rates']['MAD']\n",
    "    except Exception as e:\n",
    "        print(f\"Error fetching exchange rate: {e}\")\n",
    "        return 10.0  # Default fallback rate\n",
    "usd_to_mad_rate = get_exchange_rate()"
   ]
  },
  {
   "cell_type": "code",
   "execution_count": 16,
   "metadata": {},
   "outputs": [],
   "source": [
    "# Fonction pour extraire les informations du nom du produit\n",
    "def parse_product_name(product_name):\n",
    "    \"\"\"\n",
    "    Extract structured information from the product name.\n",
    "    \"\"\"\n",
    "    data = {\n",
    "        \"Brand\": None,\n",
    "        \"Model\": None,\n",
    "        \"Generation\": None,\n",
    "        \"Processor\": None,\n",
    "        \"RAM\": None,\n",
    "        \"Storage\": None,\n",
    "    }\n",
    "\n",
    "    # Extract brand\n",
    "    brand_match = re.search(r'\\b(HP|Dell|Lenovo|Asus|Acer|Apple|MSI|Samsung|Toshiba)\\b', product_name, re.IGNORECASE)\n",
    "    data[\"Brand\"] = brand_match.group(1) if brand_match else \"Unknown\"\n",
    "\n",
    "    # Extract model\n",
    "    model_match = re.search(r'(EliteBook|ThinkPad|Inspiron|Pavilion|IdeaPad|MacBook|Predator|ZenBook|Aspire|OMEN|ROG|Satellite)?\\s?\\d+[A-Za-z0-9-]*', product_name, re.IGNORECASE)\n",
    "    data[\"Model\"] = model_match.group(0).strip() if model_match else \"Unknown\"\n",
    "\n",
    "    # Extract generation\n",
    "    generation_match = re.search(r'(\\d+)(?:[èé]me|th)?\\s?(?:GEN|GÉNÉRATION|GÉN)', product_name, re.IGNORECASE)\n",
    "    data[\"Generation\"] = f\"{generation_match.group(1)}th Gen\" if generation_match else \"Unknown\"\n",
    "    # Extract processor\n",
    "    processor_match = re.search(r'(Core\\s?i[3579]|Ryzen\\s?\\d+)', product_name, re.IGNORECASE)\n",
    "    data[\"Processor\"] = processor_match.group(1) if processor_match else \"Unknown\"\n",
    "\n",
    "    # Extract RAM (DDR4 and DDR5)\n",
    "    ram_match = re.search(r'(\\d+)\\s?(GB|Go)\\s?(DDR4|DDR5)?', product_name, re.IGNORECASE)\n",
    "    data[\"RAM\"] = f\"{ram_match.group(1)}GB {ram_match.group(2)}\" if ram_match else \"Unknown\"\n",
    "\n",
    "    # Extract storage (HDD, SSD, PCIe SSD)\n",
    "    storage_match = re.search(r'(\\d+)\\s?(GB|TB)\\s?(HDD|SSD|PCIe SSD)', product_name, re.IGNORECASE)\n",
    "    data[\"Storage\"] = storage_match.group(0) if storage_match else \"Unknown\"\n",
    "\n",
    "    return data\n"
   ]
  },
  {
   "cell_type": "code",
   "execution_count": 17,
   "metadata": {},
   "outputs": [],
   "source": [
    "# Fonction pour récupérer le HTML avec Selenium\n",
    "def get_data(url):\n",
    "    driver.get(url)\n",
    "    WebDriverWait(driver, 10).until(\n",
    "        EC.presence_of_all_elements_located((By.CLASS_NAME, \"item-container\"))\n",
    "    )\n",
    "    return driver.page_source\n",
    "\n"
   ]
  },
  {
   "cell_type": "code",
   "execution_count": 18,
   "metadata": {},
   "outputs": [],
   "source": [
    "def clean_price(price_text):\n",
    "    \"\"\"Extracts a valid numeric price from a messy string.\"\"\"\n",
    "    price_text = price_text.replace(\"$\", \"\").replace(\",\", \"\").replace(\"\\xa0\", \"\").strip()\n",
    "    \n",
    "    # Use regex to extract the first valid number (handles cases like \"2097.00 –\")\n",
    "    match = re.search(r'\\d+(\\.\\d+)?', price_text)\n",
    "    \n",
    "    return float(match.group()) if match else 0.0"
   ]
  },
  {
   "cell_type": "code",
   "execution_count": 19,
   "metadata": {},
   "outputs": [],
   "source": [
    "# Fonction principale de parsing\n",
    "def parse(html):\n",
    "    soup = BeautifulSoup(html, 'html.parser')\n",
    "    results = soup.find_all('div', class_='item-container')\n",
    "\n",
    "    all_products = []\n",
    "    collection_time = datetime.now().strftime('%Y-%m-%d %H:%M:%S')\n",
    "\n",
    "    \n",
    "    for item in results:\n",
    "        try:\n",
    "            # Extract Product Name\n",
    "            name_tag = item.find('a', class_='item-title')\n",
    "            product_name = name_tag.text.strip() if name_tag else 'N/A'\n",
    "            link = name_tag['href'] if name_tag else 'N/A'\n",
    "            \n",
    "            # Extract Promo Price\n",
    "            promo_price_tag = item.find('li', class_='price-current')\n",
    "            # Convert price strings to float before rounding\n",
    "            promo_price = clean_price(promo_price_tag.text) if promo_price_tag else 0.0\n",
    "            price_promo_mad = round(promo_price * usd_to_mad_rate, 2)\n",
    "\n",
    "\n",
    "            # Extract Old Price\n",
    "            old_price_tag = item.find('li', class_='price-was')\n",
    "            old_price = clean_price(old_price_tag.text) if old_price_tag else 0.0\n",
    "            price_initial_mad = round(old_price * usd_to_mad_rate, 2)\n",
    "\n",
    "            promotions = []\n",
    "            promo_tags = item.find_all(\"span\", class_=\"price-save-percent\")  # Chercher toutes les balises avec classe \"tag\"\n",
    "            for promo_tag in promo_tags:\n",
    "                if promo_tag.text.strip():\n",
    "                    promotions.append(promo_tag.text.strip())\n",
    "\n",
    "            promotion = \", \".join(promotions) if promotions else 'Aucune'\n",
    "            \n",
    "            if promotion == 'Aucune' :\n",
    "                price_initial_mad = price_promo_mad\n",
    "                price_promo_mad = 'N/A'\n",
    "            \n",
    "\n",
    "            # Parse structured information\n",
    "            structured_data = parse_product_name(product_name)\n",
    "            \n",
    "            product = {\n",
    "                **structured_data,\n",
    "                'Marketplace': 'Newegg',\n",
    "                'Category': 'PC Laptops',\n",
    "                'Link': link,\n",
    "                'priceInitial': price_initial_mad,\n",
    "                'pricePromo': price_promo_mad,\n",
    "                'promotiontype' : promotion,\n",
    "                'collectionTime': collection_time,\n",
    "            }\n",
    "            all_products.append(product)\n",
    "\n",
    "        except Exception as e:\n",
    "            print(f\"Error parsing product: {e}\")\n",
    "            continue\n",
    "    \n",
    "    return all_products"
   ]
  },
  {
   "cell_type": "code",
   "execution_count": 20,
   "metadata": {},
   "outputs": [],
   "source": [
    "def clean_all_products(all_products):\n",
    "    cleaned_products = [\n",
    "        product for product in all_products\n",
    "        if all(value != \"Unknown\" for value in product.values())\n",
    "    ]\n",
    "\n",
    "    print(f\"Removed {len(all_products) - len(cleaned_products)} rows with 'Unknown' values.\")\n",
    "    return cleaned_products"
   ]
  },
  {
   "cell_type": "code",
   "execution_count": 21,
   "metadata": {},
   "outputs": [],
   "source": [
    "# Fonction principale de scraping\n",
    "def scrape_newegg():\n",
    "    all_products = []\n",
    "    \n",
    "    for page in range(1, MAX_PAGES + 1):\n",
    "        url = f\"{START_URL}/Page-{page}\"\n",
    "        html = get_data(url)\n",
    "        products = parse(html)\n",
    "        all_products.extend(products)\n",
    "    \n",
    "    driver.quit()\n",
    "    return all_products"
   ]
  },
  {
   "cell_type": "code",
   "execution_count": 22,
   "metadata": {},
   "outputs": [],
   "source": [
    "# Exécuter le scraper\n",
    "data = scrape_newegg()"
   ]
  },
  {
   "cell_type": "code",
   "execution_count": 23,
   "metadata": {},
   "outputs": [
    {
     "name": "stdout",
     "output_type": "stream",
     "text": [
      "Removed 36 rows with 'Unknown' values.\n",
      "Scraping terminé. Résultats sauvegardés dans Data\\Newegg_Laptops.csv\n"
     ]
    }
   ],
   "source": [
    "cleanData = clean_all_products(data)\n",
    "# Sauvegarde des résultats\n",
    "os.makedirs(OUTPUT_DIR, exist_ok=True)\n",
    "df = pd.DataFrame(cleanData)\n",
    "df.to_csv(OUTPUT_FILE, mode='a', index=False)\n",
    "\n",
    "print(f\"Scraping terminé. Résultats sauvegardés dans {OUTPUT_FILE}\")"
   ]
  },
  {
   "cell_type": "code",
   "execution_count": null,
   "metadata": {},
   "outputs": [],
   "source": []
  }
 ],
 "metadata": {
  "kernelspec": {
   "display_name": "Python 3",
   "language": "python",
   "name": "python3"
  },
  "language_info": {
   "codemirror_mode": {
    "name": "ipython",
    "version": 3
   },
   "file_extension": ".py",
   "mimetype": "text/x-python",
   "name": "python",
   "nbconvert_exporter": "python",
   "pygments_lexer": "ipython3",
   "version": "3.13.1"
  }
 },
 "nbformat": 4,
 "nbformat_minor": 2
}
