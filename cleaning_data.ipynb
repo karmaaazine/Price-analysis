{
 "cells": [
  {
   "cell_type": "code",
   "execution_count": 10,
   "metadata": {},
   "outputs": [
    {
     "data": {
      "text/plain": [
       "'Data/dataset_summary_before_cleaning.csv'"
      ]
     },
     "execution_count": 10,
     "metadata": {},
     "output_type": "execute_result"
    }
   ],
   "source": [
    "import pandas as pd\n",
    "\n",
    "# Load the uploaded datasets\n",
    "files = {\n",
    "    \"Jumia_Laptops\": \"Data/Jumia_Laptops.csv\",\n",
    "    \"Jumia_Smartphones\": \"Data/Jumia_Smartphones.csv\",\n",
    "    \"Jumia_Tablettes\": \"Data/Jumia_Tablettes.csv\",\n",
    "    \"MarjaneMall_Laptops\": \"Data/MarjaneMall_Laptops.csv\",\n",
    "    \"MarjaneMall_Smartphones\": \"Data/MarjaneMall_Smartphones.csv\",\n",
    "    \"MarjaneMall_Tablettes\": \"Data/MarjaneMall_Tablettes.csv\",\n",
    "    \"Newegg_Laptops\": \"Data/Newegg_Laptops.csv\",\n",
    "    \"Newegg_Phones\": \"Data/Newegg_phones.csv\",\n",
    "    \"Newegg_Tablets\": \"Data/Newegg_Tablets.csv\",\n",
    "}\n",
    "\n",
    "# Read all files into dataframes\n",
    "dataframes = {name: pd.read_csv(path) for name, path in files.items()}\n",
    "\n",
    "# Display basic info for each dataset\n",
    "data_info = {}\n",
    "for name, df in dataframes.items():\n",
    "    data_info[name] = {\n",
    "        \"Rows\": df.shape[0],\n",
    "        \"Columns\": df.shape[1],\n",
    "        \"Missing Values\": df.isnull().sum().sum(),\n",
    "        \"Duplicate Rows\": df.duplicated().sum(),\n",
    "        \"Columns\": df.columns.tolist()\n",
    "    }\n",
    "\n",
    "# Convert data_info to DataFrame for visualization\n",
    "df_info = pd.DataFrame.from_dict(data_info, orient='index')\n",
    "\n",
    "# Save the summary as a CSV file for download\n",
    "summary_path = \"Data/dataset_summary_before_cleaning.csv\"\n",
    "df_info.to_csv(summary_path)\n",
    "\n",
    "# Provide the summary file for download\n",
    "summary_path\n",
    "\n"
   ]
  },
  {
   "cell_type": "code",
   "execution_count": 15,
   "metadata": {},
   "outputs": [
    {
     "data": {
      "text/plain": [
       "{'Jumia_Smartphones': 'Data/Jumia_Smartphones.csv',\n",
       " 'MarjaneMall_Smartphones': 'Data/MarjaneMall_Smartphones.csv',\n",
       " 'Newegg_Phones': 'Data/Newegg_Phones.csv'}"
      ]
     },
     "execution_count": 15,
     "metadata": {},
     "output_type": "execute_result"
    }
   ],
   "source": [
    "# Save the updated files after renaming the category\n",
    "for name in [\"Jumia_Smartphones\", \"MarjaneMall_Smartphones\", \"Newegg_Phones\"]:\n",
    "    save_path = f\"Data/{name}.csv\"\n",
    "    dataframes[name].to_csv(save_path, index=False)\n",
    "\n",
    "# Provide download links for the updated files\n",
    "updated_files = {\n",
    "    \"Jumia_Smartphones\": \"Data/Jumia_Smartphones.csv\",\n",
    "    \"MarjaneMall_Smartphones\": \"Data/MarjaneMall_Smartphones.csv\",\n",
    "    \"Newegg_Phones\": \"Data/Newegg_Phones.csv\"\n",
    "}\n",
    "\n",
    "updated_files\n"
   ]
  },
  {
   "cell_type": "code",
   "execution_count": 16,
   "metadata": {},
   "outputs": [
    {
     "data": {
      "text/plain": [
       "'Data/duplicate_removal_summary.csv'"
      ]
     },
     "execution_count": 16,
     "metadata": {},
     "output_type": "execute_result"
    }
   ],
   "source": [
    "# Remove duplicates directly in the original files and overwrite them\n",
    "for name, df in dataframes.items():\n",
    "    df.drop_duplicates(inplace=True)\n",
    "    df.to_csv(files[name], index=False)  # Overwrite the original file\n",
    "\n",
    "# Verify if duplicates were removed\n",
    "duplicate_info = {name: df.duplicated().sum() for name, df in dataframes.items()}\n",
    "\n",
    "# Convert duplicate removal summary to DataFrame\n",
    "df_duplicate_info = pd.DataFrame.from_dict(duplicate_info, orient='index', columns=[\"Remaining Duplicates\"])\n",
    "\n",
    "# Save the duplicate removal summary as a CSV file for download\n",
    "duplicate_summary_path = \"Data/duplicate_removal_summary.csv\"\n",
    "df_duplicate_info.to_csv(duplicate_summary_path)\n",
    "\n",
    "# Provide the summary file for download\n",
    "duplicate_summary_path\n"
   ]
  }
 ],
 "metadata": {
  "kernelspec": {
   "display_name": "Python 3",
   "language": "python",
   "name": "python3"
  },
  "language_info": {
   "codemirror_mode": {
    "name": "ipython",
    "version": 3
   },
   "file_extension": ".py",
   "mimetype": "text/x-python",
   "name": "python",
   "nbconvert_exporter": "python",
   "pygments_lexer": "ipython3",
   "version": "3.13.1"
  }
 },
 "nbformat": 4,
 "nbformat_minor": 2
}
