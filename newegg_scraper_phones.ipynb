{
 "cells": [
  {
   "cell_type": "code",
   "execution_count": 1,
   "metadata": {},
   "outputs": [],
   "source": [
    "from selenium import webdriver\n",
    "from selenium.webdriver.common.by import By\n",
    "from selenium.webdriver.chrome.service import Service\n",
    "from selenium.webdriver.chrome.options import Options\n",
    "from selenium.webdriver.support.ui import WebDriverWait\n",
    "from selenium.webdriver.support import expected_conditions as EC\n",
    "import pandas as pd\n",
    "from datetime import datetime\n",
    "from bs4 import BeautifulSoup\n",
    "import os\n",
    "import re\n",
    "import requests"
   ]
  },
  {
   "cell_type": "code",
   "execution_count": 2,
   "metadata": {},
   "outputs": [],
   "source": [
    "# Selenium Setup\n",
    "options = Options()\n",
    "options.add_argument(\"--disable-gpu\")\n",
    "options.add_argument(\"--no-sandbox\")\n",
    "options.add_argument(\"--ignore-certificate-errors\")\n",
    "service = Service(\"C:/chromedriver.exe\")  # Adjust the path to your ChromeDriver\n",
    "driver = webdriver.Chrome(service=service, options=options)"
   ]
  },
  {
   "cell_type": "code",
   "execution_count": 3,
   "metadata": {},
   "outputs": [],
   "source": [
    "# Paramètres du scraping\n",
    "BASE_URL = \"https://www.newegg.com\"\n",
    "START_URL = \"https://www.newegg.com/Cell-Phones-Unlocked/SubCategory/ID-2961\"\n",
    "MAX_PAGES = 1\n",
    "OUTPUT_DIR = \"Data\"\n",
    "OUTPUT_FILE = os.path.join(OUTPUT_DIR, \"Newegg_phones.csv\")"
   ]
  },
  {
   "cell_type": "code",
   "execution_count": 4,
   "metadata": {},
   "outputs": [],
   "source": [
    "def get_exchange_rate():\n",
    "    \"\"\"Fetch USD to MAD exchange rate from an API.\"\"\"\n",
    "    api_url = \"https://api.exchangerate-api.com/v4/latest/USD\"\n",
    "    try:\n",
    "        response = requests.get(api_url)\n",
    "        data = response.json()\n",
    "        return data['rates']['MAD']\n",
    "    except Exception as e:\n",
    "        print(f\"Error fetching exchange rate: {e}\")\n",
    "        return 10.0  # Default fallback rate\n",
    "usd_to_mad_rate = get_exchange_rate()"
   ]
  },
  {
   "cell_type": "code",
   "execution_count": 5,
   "metadata": {},
   "outputs": [],
   "source": [
    "# Fonction pour extraire les informations du nom du produit\n",
    "def parse_product_name(product_name):\n",
    "    \"\"\"\n",
    "    Extract structured information from the product name.\n",
    "    \"\"\"\n",
    "    data = {\n",
    "        \"Brand\": None,\n",
    "        \"Model\": None,\n",
    "        \"Storage\": None,\n",
    "    }\n",
    "\n",
    "    # Extract brand\n",
    "    brand_match = re.search(r'\\b(Iphone|Apple|Samsung|Xiaomi|Huawei|Sony|OnePlus|Honor|Vivo|Tecno|Itel|ZTE|Infinix|OPPO)\\b', product_name, re.IGNORECASE)\n",
    "    data[\"Brand\"] = brand_match.group(1) if brand_match else \"Unknown\"\n",
    "\n",
    "    # Extract model\n",
    "    model_match = re.search(r'(Redmi\\s?\\w+|Galaxy\\s?\\w+|iPhone\\s?\\d+|Y(\\d+)\\s?|nubia V\\s?\\w+|Note\\s?\\w+|A(\\d+)\\s?|Redmi Note\\s?\\w+)', product_name, re.IGNORECASE)\n",
    "    data[\"Model\"] = model_match.group(0).strip() if model_match else \"Unknown\"\n",
    "\n",
    "\n",
    "    # Extract storage\n",
    "    storage_matches = re.findall(r'(\\d+)\\s?(?:Go|GB)', product_name, re.IGNORECASE)\n",
    "\n",
    "    if storage_matches:\n",
    "        # Convert to integers and take the maximum value (assuming storage is larger than RAM)\n",
    "        storage_value = max(map(int, storage_matches))\n",
    "        data[\"Storage\"] = f\"{storage_value}GB\"\n",
    "    else:\n",
    "        data[\"Storage\"] = \"Unknown\" \n",
    "\n",
    "\n",
    "    return data"
   ]
  },
  {
   "cell_type": "code",
   "execution_count": 6,
   "metadata": {},
   "outputs": [],
   "source": [
    "# Fonction pour récupérer le HTML avec Selenium\n",
    "def get_data(url):\n",
    "    driver.get(url)\n",
    "    WebDriverWait(driver, 10).until(\n",
    "        EC.presence_of_all_elements_located((By.CLASS_NAME, \"item-container\"))\n",
    "    )\n",
    "    return driver.page_source"
   ]
  },
  {
   "cell_type": "code",
   "execution_count": 7,
   "metadata": {},
   "outputs": [],
   "source": [
    "def clean_price(price_text):\n",
    "    \"\"\"Extracts a valid numeric price from a messy string.\"\"\"\n",
    "    price_text = price_text.replace(\"$\", \"\").replace(\",\", \"\").replace(\"\\xa0\", \"\").strip()\n",
    "    \n",
    "    # Use regex to extract the first valid number (handles cases like \"2097.00 –\")\n",
    "    match = re.search(r'\\d+(\\.\\d+)?', price_text)\n",
    "    \n",
    "    return float(match.group()) if match else 0.0\n",
    "\n",
    "# Fonction principale de parsing\n",
    "def parse(html):\n",
    "    soup = BeautifulSoup(html, 'html.parser')\n",
    "    results = soup.find_all('div', class_='item-container')\n",
    "\n",
    "    all_products = []\n",
    "    collection_time = datetime.now().strftime('%Y-%m-%d %H:%M:%S')\n",
    "\n",
    "    \n",
    "    for item in results:\n",
    "        try:\n",
    "            # Extract Product Name\n",
    "            name_tag = item.find('a', class_='item-title')\n",
    "            product_name = name_tag.text.strip() if name_tag else 'N/A'\n",
    "            link = name_tag['href'] if name_tag else 'N/A'\n",
    "            \n",
    "            # Extract Promo Price\n",
    "            promo_price_tag = item.find('li', class_='price-current')\n",
    "            promo_price = clean_price(promo_price_tag.text) if promo_price_tag else 0.0\n",
    "            price_promo_mad = round(promo_price * usd_to_mad_rate, 2)\n",
    "\n",
    "\n",
    "            # Extract Old Price\n",
    "            old_price_tag = item.find('li', class_='price-was')\n",
    "            old_price = clean_price(old_price_tag.text) if old_price_tag else 0.0\n",
    "            price_initial_mad = round(old_price * usd_to_mad_rate, 2)\n",
    "\n",
    "            promotions = []\n",
    "            promo_tags = item.find_all(\"span\", class_=\"price-save-percent\")  # Chercher toutes les balises avec classe \"tag\"\n",
    "            for promo_tag in promo_tags:\n",
    "                if promo_tag.text.strip():\n",
    "                    promotions.append(promo_tag.text.strip())\n",
    "\n",
    "            promotion = \", \".join(promotions) if promotions else 'Aucune'\n",
    "            if promotion == 'Aucune' :\n",
    "                price_initial_mad = price_promo_mad\n",
    "                price_promo_mad = 'N/A'\n",
    "            \n",
    "\n",
    "            # Parse structured information\n",
    "            structured_data = parse_product_name(product_name)\n",
    "            \n",
    "            product = {\n",
    "                **structured_data,\n",
    "                'Marketplace': 'Newegg',\n",
    "                'Category': 'PC Laptops',\n",
    "                'Link': link,\n",
    "                'priceInitial': price_initial_mad,\n",
    "                'pricePromo': price_promo_mad,\n",
    "                'promotiontype' : promotion,\n",
    "                'collectionTime': collection_time,\n",
    "            }\n",
    "            all_products.append(product)\n",
    "\n",
    "        except Exception as e:\n",
    "            print(f\"Error parsing product: {e}\")\n",
    "            continue\n",
    "    \n",
    "    return all_products"
   ]
  },
  {
   "cell_type": "code",
   "execution_count": 8,
   "metadata": {},
   "outputs": [],
   "source": [
    "def clean_all_products(all_products):\n",
    "    cleaned_products = [\n",
    "        product for product in all_products\n",
    "        if all(value != \"Unknown\" for value in product.values())\n",
    "    ]\n",
    "\n",
    "    print(f\"Removed {len(all_products) - len(cleaned_products)} rows with 'Unknown' values.\")\n",
    "    return cleaned_products"
   ]
  },
  {
   "cell_type": "code",
   "execution_count": 9,
   "metadata": {},
   "outputs": [],
   "source": [
    "def get_next_page(soup):\n",
    "    \"\"\"\n",
    "    Identifies the URL for the next page.\n",
    "    \"\"\"\n",
    "    next_button = soup.find('a', {'title': 'Next'})\n",
    "    if next_button and 'href' in next_button.attrs:\n",
    "        return BASE_URL + next_button['href']\n",
    "    return None "
   ]
  },
  {
   "cell_type": "code",
   "execution_count": 10,
   "metadata": {},
   "outputs": [],
   "source": [
    "def scrape_newegg():\n",
    "    all_products = []\n",
    "    \n",
    "    for page in range(1, MAX_PAGES + 1):\n",
    "        url = f\"{START_URL}?Page-{page}\"\n",
    "        html = get_data(url)\n",
    "        products = parse(html)\n",
    "        all_products.extend(products)\n",
    "    \n",
    "    driver.quit()\n",
    "    return all_products\n"
   ]
  },
  {
   "cell_type": "code",
   "execution_count": 11,
   "metadata": {},
   "outputs": [
    {
     "name": "stdout",
     "output_type": "stream",
     "text": [
      "Removed 11 rows with 'Unknown' values.\n",
      "Scraping terminé. Résultats sauvegardés dans Data\\Newegg_phones.csv\n"
     ]
    }
   ],
   "source": [
    "data = scrape_newegg()\n",
    "cleanData = clean_all_products(data)\n",
    "# Sauvegarde des résultats\n",
    "os.makedirs(OUTPUT_DIR, exist_ok=True)\n",
    "df = pd.DataFrame(cleanData)\n",
    "df.to_csv(OUTPUT_FILE, mode='a',index=False)\n",
    "\n",
    "print(f\"Scraping terminé. Résultats sauvegardés dans {OUTPUT_FILE}\")"
   ]
  }
 ],
 "metadata": {
  "kernelspec": {
   "display_name": "Python 3",
   "language": "python",
   "name": "python3"
  },
  "language_info": {
   "codemirror_mode": {
    "name": "ipython",
    "version": 3
   },
   "file_extension": ".py",
   "mimetype": "text/x-python",
   "name": "python",
   "nbconvert_exporter": "python",
   "pygments_lexer": "ipython3",
   "version": "3.13.1"
  }
 },
 "nbformat": 4,
 "nbformat_minor": 2
}
