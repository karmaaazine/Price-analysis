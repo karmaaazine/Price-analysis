{
 "cells": [
  {
   "cell_type": "code",
   "execution_count": 11,
   "metadata": {},
   "outputs": [],
   "source": [
    "import os\n",
    "import requests\n",
    "from datetime import datetime\n",
    "from bs4 import BeautifulSoup\n",
    "import pandas as pd\n",
    "from selenium import webdriver\n",
    "from selenium.webdriver.common.by import By\n",
    "from selenium.webdriver.chrome.service import Service\n",
    "from selenium.webdriver.chrome.options import Options\n",
    "from selenium.webdriver.support.ui import WebDriverWait\n",
    "from selenium.webdriver.support import expected_conditions as EC\n",
    "import re"
   ]
  },
  {
   "cell_type": "code",
   "execution_count": 12,
   "metadata": {},
   "outputs": [],
   "source": [
    "# Selenium Setup\n",
    "options = Options()\n",
    "options.add_argument(\"--disable-gpu\")\n",
    "options.add_argument(\"--no-sandbox\")\n",
    "options.add_argument(\"--ignore-certificate-errors\")\n",
    "service = Service(\"C:/chromedriver.exe\")  # Adjust the path to your ChromeDriver\n",
    "driver = webdriver.Chrome(service=service, options=options)"
   ]
  },
  {
   "cell_type": "code",
   "execution_count": 13,
   "metadata": {},
   "outputs": [],
   "source": [
    "OUTPUT_DIR = \"Data\"\n",
    "MAX_PAGES = 20\n",
    "OUTPUT_FILE = os.path.join(OUTPUT_DIR, \"Newegg_Tablets.csv\")\n",
    "START_URL = \"https://www.newegg.com/Tablets/SubCategory/ID-2557\""
   ]
  },
  {
   "cell_type": "code",
   "execution_count": 14,
   "metadata": {},
   "outputs": [],
   "source": [
    "def parse_product_name(product_name):\n",
    "    \"\"\"\n",
    "    Extract structured information from the product name.\n",
    "    \"\"\"\n",
    "    data = {\n",
    "        \"Brand\": None,\n",
    "        \"Model\": None,\n",
    "        \"Storage\": None,\n",
    "    }\n",
    "\n",
    "    # Extract brand\n",
    "    brand_match = re.search(r'\\b(Apple|Samsung|Xiaomi|Huawei|Sony|Ulefone|Lenovo|CHUWI|Fusion5|JIMTAB)\\b', product_name, re.IGNORECASE)\n",
    "    data[\"Brand\"] = brand_match.group(1) if brand_match else \"Unknown\"\n",
    "\n",
    "    # Extract model\n",
    "    model_match = re.search(r'(Redmi Pad\\s?\\w+|Galaxy TAB\\s?\\w+|iPad Air\\s?\\w+|iPad\\s?\\w+|MATEPAD\\s?\\w+|VistaTab\\s?\\w+|Tab M\\s?\\w+|Tab Plus)', product_name, re.IGNORECASE)\n",
    "    data[\"Model\"] = model_match.group(0).strip() if model_match else \"Unknown\"\n",
    "\n",
    "\n",
    "    # Extract storage\n",
    "    storage_matches = re.findall(r'(\\d+)\\s?(?:Go|GB)', product_name, re.IGNORECASE)\n",
    "\n",
    "    if storage_matches:\n",
    "        # Convert to integers and take the maximum value (assuming storage is larger than RAM)\n",
    "        storage_value = max(map(int, storage_matches))\n",
    "        data[\"Storage\"] = f\"{storage_value}GB\"\n",
    "    else:\n",
    "        data[\"Storage\"] = \"Unknown\"     \n",
    "\n",
    "\n",
    "    return data\n",
    "\n",
    "def get_data(url):\n",
    "    \"\"\"\n",
    "    Fetches the page source using Selenium.\n",
    "    \"\"\"\n",
    "    driver.get(url)\n",
    "    WebDriverWait(driver, 10).until(\n",
    "        EC.presence_of_all_elements_located((By.CLASS_NAME, \"prd\"))\n",
    "    )\n",
    "    return driver.page_source"
   ]
  },
  {
   "cell_type": "code",
   "execution_count": 15,
   "metadata": {},
   "outputs": [],
   "source": [
    "# Définir le taux de conversion USD -> MAD (ajuste selon le taux actuel)\n",
    "usd_to_mad_rate = 10.0  # Exemple\n",
    "\n",
    "# Fonction pour nettoyer les prix\n",
    "import re\n",
    "\n",
    "# Fonction pour nettoyer les prix\n",
    "def clean_price(price_str):\n",
    "    if price_str:\n",
    "        # Supprimer les espaces inutiles et les caractères non numériques comme les symboles d'espace (\\xa0)\n",
    "        price_str = re.sub(r'[^\\d.,]', '', price_str)  # Garde les chiffres et les points/virgules\n",
    "        # Remplacer la virgule par un point si nécessaire et convertir en float\n",
    "        price_str = price_str.replace(',', '')\n",
    "        return float(price_str) if price_str else 0.0\n",
    "    return 0.0\n"
   ]
  },
  {
   "cell_type": "code",
   "execution_count": 16,
   "metadata": {},
   "outputs": [],
   "source": [
    "# Fonction pour récupérer les données HTML avec Selenium\n",
    "def get_data(url):\n",
    "    try:\n",
    "        driver.get(url)\n",
    "        WebDriverWait(driver, 10).until(\n",
    "            EC.presence_of_all_elements_located((By.CLASS_NAME, \"item-container\"))\n",
    "        )\n",
    "        return driver.page_source\n",
    "    except Exception as e:\n",
    "        print(f\"Erreur lors de la récupération des données pour l'URL {url}: {e}\")\n",
    "        return None\n",
    "    "
   ]
  },
  {
   "cell_type": "code",
   "execution_count": 17,
   "metadata": {},
   "outputs": [],
   "source": [
    "# Fonction de parsing pour les tablettes\n",
    "def parse_tablets(html):\n",
    "    soup = BeautifulSoup(html, 'html.parser')\n",
    "    results = soup.find_all('div', class_='item-container')\n",
    "\n",
    "    all_products = []\n",
    "    collection_time = datetime.now().strftime('%Y-%m-%d %H:%M:%S')\n",
    "    \n",
    "    for item in results:\n",
    "        try:\n",
    "            # Extraction du nom du produit\n",
    "            name_tag = item.find('a', class_='item-title')\n",
    "            product_name = name_tag.text.strip() if name_tag else 'N/A'\n",
    "            link = name_tag['href'] if name_tag else 'N/A'\n",
    "            \n",
    "            # Extraction du prix promotionnel\n",
    "            promo_price_tag = item.find('li', class_='price-current')\n",
    "            promo_price = clean_price(promo_price_tag.text) if promo_price_tag else 0.0\n",
    "            price_promo_mad = round(promo_price * usd_to_mad_rate, 2)\n",
    "\n",
    "            # Extraction de l'ancien prix\n",
    "            old_price_tag = item.find('li', class_='price-was')\n",
    "            old_price = clean_price(old_price_tag.text) if old_price_tag else 0.0\n",
    "            price_initial_mad = round(old_price * usd_to_mad_rate, 2)\n",
    "\n",
    "            # Promotions\n",
    "            promotions = []\n",
    "            promo_tags = item.find_all(\"span\", class_=\"price-save-percent\")\n",
    "            for promo_tag in promo_tags:\n",
    "                if promo_tag.text.strip():\n",
    "                    promotions.append(promo_tag.text.strip())\n",
    "            promotion = \", \".join(promotions) if promotions else 'Aucune'\n",
    "\n",
    "            if promotion == 'Aucune' :\n",
    "                price_initial_mad = price_promo_mad\n",
    "                price_promo_mad = 'N/A'\n",
    "            \n",
    "            # Données supplémentaires\n",
    "            structured_data = parse_product_name(product_name)\n",
    "\n",
    "            # Création de la structure des données\n",
    "            product = {\n",
    "                **structured_data,\n",
    "                'category': 'Tablets',\n",
    "                'marketplace': 'Newegg',\n",
    "                'category': 'Tablette',\n",
    "                'link': link,\n",
    "                'priceInitial': price_initial_mad,\n",
    "                'pricePromo': price_promo_mad,\n",
    "                'promotionType': promotion,\n",
    "                'collectionTime': collection_time,\n",
    "            }\n",
    "            all_products.append(product)\n",
    "        except Exception as e:\n",
    "            print(f\"Error parsing product: {e}\")\n",
    "            continue\n",
    "    \n",
    "    return all_products"
   ]
  },
  {
   "cell_type": "code",
   "execution_count": 18,
   "metadata": {},
   "outputs": [],
   "source": [
    "# Fonction principale de scraping\n",
    "def scrape_tablets():\n",
    "    all_products = []\n",
    "    for page in range(1, MAX_PAGES + 1):\n",
    "        url = f\"{START_URL}/Page-{page}\"\n",
    "        html = get_data(url)\n",
    "        if html:\n",
    "            products = parse_tablets(html)\n",
    "            all_products.extend(products)\n",
    "        else:\n",
    "            print(f\"Erreur lors de la récupération des données de la page {page}\")\n",
    "    \n",
    "    return all_products"
   ]
  },
  {
   "cell_type": "code",
   "execution_count": 19,
   "metadata": {},
   "outputs": [],
   "source": [
    "def clean_all_products(all_products):\n",
    "    cleaned_products = [\n",
    "        product for product in all_products\n",
    "        if all(value != \"Unknown\" for value in product.values())\n",
    "    ]\n",
    "\n",
    "    print(f\"Removed {len(all_products) - len(cleaned_products)} rows with 'Unknown' values.\")\n",
    "    return cleaned_products"
   ]
  },
  {
   "cell_type": "code",
   "execution_count": 20,
   "metadata": {},
   "outputs": [
    {
     "name": "stdout",
     "output_type": "stream",
     "text": [
      "Removed 289 rows with 'Unknown' values.\n",
      "Scraping terminé. Résultats sauvegardés dans Data\\Newegg_Tablets.csv\n"
     ]
    }
   ],
   "source": [
    "# Exécuter le scraper et sauvegarder les données\n",
    "if __name__ == \"__main__\":\n",
    "    os.makedirs(OUTPUT_DIR, exist_ok=True)\n",
    "    all_products = scrape_tablets()\n",
    "    cleanData = clean_all_products(all_products)\n",
    "\n",
    "    if all_products:\n",
    "        df = pd.DataFrame(cleanData)\n",
    "        df.to_csv(OUTPUT_FILE, mode='a', index=False)\n",
    "        print(f\"Scraping terminé. Résultats sauvegardés dans {OUTPUT_FILE}\")\n",
    "    else:\n",
    "        print(\"Aucun produit trouvé.\")\n"
   ]
  },
  {
   "cell_type": "code",
   "execution_count": null,
   "metadata": {},
   "outputs": [],
   "source": []
  }
 ],
 "metadata": {
  "kernelspec": {
   "display_name": "Python 3",
   "language": "python",
   "name": "python3"
  },
  "language_info": {
   "codemirror_mode": {
    "name": "ipython",
    "version": 3
   },
   "file_extension": ".py",
   "mimetype": "text/x-python",
   "name": "python",
   "nbconvert_exporter": "python",
   "pygments_lexer": "ipython3",
   "version": "3.13.1"
  }
 },
 "nbformat": 4,
 "nbformat_minor": 2
}
